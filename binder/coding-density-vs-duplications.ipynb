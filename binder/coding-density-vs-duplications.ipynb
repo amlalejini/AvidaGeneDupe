{
 "cells": [
  {
   "cell_type": "code",
   "execution_count": null,
   "metadata": {},
   "outputs": [],
   "source": [
    "import numpy as np\n",
    "from matplotlib import pyplot as plt\n",
    "import pandas as pd\n",
    "import polars as pl\n",
    "import seaborn as sns\n",
    "from teeplot import teeplot as tp\n"
   ]
  },
  {
   "cell_type": "code",
   "execution_count": null,
   "metadata": {},
   "outputs": [],
   "source": [
    "df = pl.read_parquet(\n",
    "    \"https://osf.io/gk2ty/download\",\n",
    "    use_pyarrow=True,\n",
    ")\n"
   ]
  },
  {
   "cell_type": "code",
   "execution_count": null,
   "metadata": {},
   "outputs": [],
   "source": [
    "for c in df.columns:\n",
    "    print(c)\n"
   ]
  },
  {
   "cell_type": "code",
   "execution_count": null,
   "metadata": {},
   "outputs": [],
   "source": [
    "df = df.with_columns(\n",
    "    pl.col(\"SLIP_INSERTION_BOOL_MASK\").any().over(\n",
    "        [\"Treatment\", \"Run ID\", \"Generation Born\"],\n",
    "    ).alias(\"SLIP_INSERTION_BOOL_MASK any\"),\n",
    ")\n"
   ]
  },
  {
   "cell_type": "code",
   "execution_count": null,
   "metadata": {},
   "outputs": [],
   "source": [
    "df = df.with_columns(\n",
    "    pl.col(\"Is Task Coding Site\").any().over(\n",
    "        [\"Treatment\", \"Run ID\", \"Generation Born\", \"Site\"],\n",
    "    )\n",
    "    .alias(\"is any coding site\"),\n",
    ")\n"
   ]
  },
  {
   "cell_type": "code",
   "execution_count": null,
   "metadata": {},
   "outputs": [],
   "source": [
    "df = df.with_columns(\n",
    "    pl.col(\"Is Task Coding Site Delta\").sum().over(\n",
    "        [\"Treatment\", \"Run ID\", \"Generation Born\"],\n",
    "    )\n",
    "    .alias(\"is task coding site delta sum\"),\n",
    ")\n"
   ]
  },
  {
   "cell_type": "code",
   "execution_count": null,
   "metadata": {},
   "outputs": [],
   "source": [
    "df = df.with_columns(\n",
    "    pl.col(\"has task\").sum().over(\n",
    "        [\"Treatment\", \"Run ID\", \"Generation Born\", \"Site\"],\n",
    "    )\n",
    "    .alias(\"num tasks has\"),\n",
    ")\n"
   ]
  },
  {
   "cell_type": "code",
   "execution_count": null,
   "metadata": {},
   "outputs": [],
   "source": [
    "df = df.with_columns(\n",
    "    pl.col(\"is any coding site\").sum().over(\n",
    "        [\"Treatment\", \"Run ID\", \"Generation Born\", \"Task\",],\n",
    "    ).alias(\"num coding sites\"),\n",
    ")\n"
   ]
  },
  {
   "cell_type": "code",
   "execution_count": null,
   "metadata": {},
   "outputs": [],
   "source": [
    "df = df.with_columns(\n",
    "    pl.col(\"Slip Insertion Cumulative Count\").sum().over(\n",
    "        [\"Treatment\", \"Run ID\", \"Generation Born\", \"Task\",],\n",
    "    ).alias(\"net Slip Insertion Cumulative Count\"),\n",
    ")\n"
   ]
  },
  {
   "cell_type": "code",
   "execution_count": null,
   "metadata": {},
   "outputs": [],
   "source": [
    "dfx = df.group_by(\n",
    "    [\"Treatment\", \"Run ID\", \"Generation Born\"],\n",
    ").first()\n"
   ]
  },
  {
   "cell_type": "code",
   "execution_count": null,
   "metadata": {},
   "outputs": [],
   "source": [
    "dfx = dfx.with_columns(\n",
    "    (\n",
    "        pl.col(\"net Slip Insertion Cumulative Count\") / pl.col(\"Genome Length\")\n",
    "    ).alias(\"mean Slip Insertion Cumulative Count\")\n",
    ")\n"
   ]
  },
  {
   "cell_type": "code",
   "execution_count": null,
   "metadata": {},
   "outputs": [],
   "source": [
    "dfx = dfx.with_columns(\n",
    "    (\n",
    "        pl.col(\"num coding sites\") / pl.col(\"Genome Length\")\n",
    "    ).alias(\"frac coding sites\")\n",
    ")\n"
   ]
  },
  {
   "cell_type": "code",
   "execution_count": null,
   "metadata": {},
   "outputs": [],
   "source": [
    "tp.tee(\n",
    "    sns.regplot,\n",
    "    y=\"frac coding sites\",\n",
    "    x=\"mean Slip Insertion Cumulative Count\",\n",
    "    scatter_kws={\"alpha\": 0.1},\n",
    "    data=dfx.filter(\n",
    "        pl.col(\"Treatment\") == \"Slip-duplicate\",\n",
    "    ).to_pandas(),\n",
    ")\n"
   ]
  },
  {
   "cell_type": "code",
   "execution_count": null,
   "metadata": {},
   "outputs": [],
   "source": [
    "tp.tee(\n",
    "    sns.regplot,\n",
    "    y=\"num coding sites\",\n",
    "    x=\"mean Slip Insertion Cumulative Count\",\n",
    "    scatter_kws={\"alpha\": 0.1},\n",
    "    data=dfx.filter(\n",
    "        pl.col(\"Treatment\") == \"Slip-duplicate\",\n",
    "    ).to_pandas(),\n",
    ")\n"
   ]
  }
 ],
 "metadata": {
  "kernelspec": {
   "display_name": "Python 3",
   "language": "python",
   "name": "python3"
  },
  "language_info": {
   "codemirror_mode": {
    "name": "ipython",
    "version": 3
   },
   "file_extension": ".py",
   "mimetype": "text/x-python",
   "name": "python",
   "nbconvert_exporter": "python",
   "pygments_lexer": "ipython3"
  }
 },
 "nbformat": 4,
 "nbformat_minor": 2
}
