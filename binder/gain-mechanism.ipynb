{
 "cells": [
  {
   "cell_type": "code",
   "execution_count": null,
   "metadata": {},
   "outputs": [],
   "source": [
    "import numpy as np\n",
    "from matplotlib import pyplot as plt\n",
    "import pandas as pd\n",
    "import seaborn as sns\n",
    "from teeplot import teeplot as tp\n"
   ]
  },
  {
   "cell_type": "code",
   "execution_count": null,
   "metadata": {},
   "outputs": [],
   "source": [
    "df = pd.read_parquet(\"https://osf.io/gk2ty/download\")\n"
   ]
  },
  {
   "cell_type": "code",
   "execution_count": null,
   "metadata": {},
   "outputs": [],
   "source": [
    "df[\"Components\"] = df[\"Task\"].map(\n",
    "    {\n",
    "        \"AND\": 2,\n",
    "        \"ANDNOT\": 3,\n",
    "        \"NAND\": 1,\n",
    "        \"NOR\": 4,\n",
    "        \"NOT\": 1,\n",
    "        \"OR\": 3,\n",
    "        \"ORNOT\": 2,\n",
    "        \"XOR\": 4,\n",
    "        \"EQUALS\": 5,\n",
    "    },\n",
    ")\n"
   ]
  },
  {
   "cell_type": "code",
   "execution_count": null,
   "metadata": {},
   "outputs": [],
   "source": [
    "dfx = df.groupby(\n",
    "    [\"Generation Born\", \"Components\", \"Run ID\", \"Treatment\"],\n",
    "    observed=True,\n",
    ").agg(\n",
    "    **{\n",
    "        \"Delta Has Task\": (\"Delta Has Task\", \"first\"),\n",
    "        \"SLIP_INSERTION_BOOL_MASK\": (\"SLIP_INSERTION_BOOL_MASK\", \"max\"),\n",
    "        \"POINT_MUTATION_BOOL_MASK\": (\"POINT_MUTATION_BOOL_MASK\", \"max\"),\n",
    "    },\n",
    ")\n"
   ]
  },
  {
   "cell_type": "code",
   "execution_count": null,
   "metadata": {},
   "outputs": [],
   "source": [
    "del df\n"
   ]
  },
  {
   "cell_type": "code",
   "execution_count": null,
   "metadata": {},
   "outputs": [],
   "source": [
    "dfy = dfx.reset_index()\n",
    "dfy\n"
   ]
  },
  {
   "cell_type": "code",
   "execution_count": null,
   "metadata": {},
   "outputs": [],
   "source": [
    "tp.tee(\n",
    "    sns.barplot,\n",
    "    data=dfy[\n",
    "        dfy[\"Treatment\"] == \"Slip-duplicate\"\n",
    "    ].astype(\n",
    "        {\n",
    "            \"Delta Has Task\": \"category\",\n",
    "            \"SLIP_INSERTION_BOOL_MASK\": \"bool\",\n",
    "            \"POINT_MUTATION_BOOL_MASK\": \"category\",\n",
    "        }\n",
    "    ),\n",
    "    x=\"Components\",\n",
    "    y=\"SLIP_INSERTION_BOOL_MASK\",\n",
    "    hue=\"Delta Has Task\",\n",
    ")\n"
   ]
  },
  {
   "cell_type": "code",
   "execution_count": null,
   "metadata": {},
   "outputs": [],
   "source": [
    "saveit, result = tp.tee(\n",
    "    sns.displot,\n",
    "    data=dfy[\n",
    "        dfy[\"Treatment\"] == \"Slip-duplicate\"\n",
    "    ].astype(\n",
    "        {\n",
    "            \"Delta Has Task\": \"category\",\n",
    "            \"SLIP_INSERTION_BOOL_MASK\": \"category\",\n",
    "            \"POINT_MUTATION_BOOL_MASK\": \"category\",\n",
    "        }\n",
    "    ),\n",
    "    col=\"Components\",\n",
    "    col_wrap=3,\n",
    "    x=\"Delta Has Task\",\n",
    "    kind=\"hist\",\n",
    "    stat=\"count\",\n",
    "    multiple=\"dodge\",\n",
    "    hue=\"SLIP_INSERTION_BOOL_MASK\",\n",
    "    discrete=True,\n",
    "    teeplot_callback = True,\n",
    "    shrink=0.8,\n",
    ")\n",
    "plt.yscale('log')\n",
    "\n",
    "# add count labels\n",
    "# adapted from https://stackoverflow.com/a/55319634/17332200\n",
    "for ax in result.axes.flat:\n",
    "    for p in ax.patches:\n",
    "        ax.annotate(\n",
    "            text=f\"{p.get_height():1.0f}\",\n",
    "            xy=(p.get_x() + p.get_width() / 2., p.get_height()),\n",
    "            xycoords='data',\n",
    "            ha='center',\n",
    "            va='center',\n",
    "            fontsize=11,\n",
    "            color='black',\n",
    "            xytext=(0,7),\n",
    "            textcoords='offset points',\n",
    "            clip_on=True,                   # <---  important\n",
    "        )\n",
    "\n",
    "saveit()\n"
   ]
  },
  {
   "cell_type": "code",
   "execution_count": null,
   "metadata": {},
   "outputs": [],
   "source": [
    "sns.displot(\n",
    "    data=dfx.astype(\n",
    "        {\n",
    "            \"Delta Has Task\": \"category\",\n",
    "            \"SLIP_INSERTION_BOOL_MASK\": \"category\",\n",
    "            \"POINT_MUTATION_BOOL_MASK\": \"category\",\n",
    "        }\n",
    "    ),\n",
    "    x=\"Delta Has Task\",\n",
    "    hue=\"SLIP_INSERTION_BOOL_MASK\",\n",
    "    col=\"Components\",\n",
    "    kind=\"hist\",\n",
    "    multiple=\"fill\",\n",
    "    row=\"Treatment\",\n",
    "    facet_kws=dict(margin_titles=True, ),\n",
    "    aspect=0.8,\n",
    "    height=2.5,\n",
    ").set_titles(row_template=\"{row_name}\", col_template=\"{col_name}\")\n"
   ]
  },
  {
   "cell_type": "code",
   "execution_count": null,
   "metadata": {},
   "outputs": [],
   "source": [
    "g = sns.displot(\n",
    "    data=dfx.astype(\n",
    "        {\n",
    "            \"Delta Has Task\": \"category\",\n",
    "            \"SLIP_INSERTION_BOOL_MASK\": \"category\",\n",
    "            \"POINT_MUTATION_BOOL_MASK\": \"category\",\n",
    "        }\n",
    "    ),\n",
    "    x=\"Delta Has Task\",\n",
    "    hue=\"SLIP_INSERTION_BOOL_MASK\",\n",
    "    col=\"Components\",\n",
    "    kind=\"hist\",\n",
    "    multiple=\"dodge\",\n",
    "    row=\"Treatment\",\n",
    "    facet_kws=dict(margin_titles=True, ),\n",
    "    aspect=0.8,\n",
    "    height=2.5,\n",
    "    shrink=0.8,\n",
    ").set_titles(row_template=\"{row_name}\", col_template=\"{col_name}\")\n",
    "\n",
    "for ax in g.axes.flat:\n",
    "    ax.set_yscale(\"symlog\")\n"
   ]
  }
 ],
 "metadata": {
  "kernelspec": {
   "display_name": "Python 3",
   "language": "python",
   "name": "python3"
  },
  "language_info": {
   "codemirror_mode": {
    "name": "ipython",
    "version": 3
   },
   "file_extension": ".py",
   "mimetype": "text/x-python",
   "name": "python",
   "nbconvert_exporter": "python",
   "pygments_lexer": "ipython3"
  }
 },
 "nbformat": 4,
 "nbformat_minor": 2
}
