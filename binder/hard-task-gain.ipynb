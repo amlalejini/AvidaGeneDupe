{
 "cells": [
  {
   "cell_type": "code",
   "execution_count": null,
   "metadata": {},
   "outputs": [],
   "source": [
    "import numpy as np\n",
    "from matplotlib import pyplot as plt\n",
    "import pandas as pd\n",
    "import seaborn as sns\n",
    "import scipy\n",
    "from teeplot import teeplot as tp\n"
   ]
  },
  {
   "cell_type": "code",
   "execution_count": null,
   "metadata": {},
   "outputs": [],
   "source": [
    "df = pd.read_parquet(\"https://osf.io/gk2ty/download\")\n"
   ]
  },
  {
   "cell_type": "code",
   "execution_count": null,
   "metadata": {},
   "outputs": [],
   "source": [
    "df.columns\n"
   ]
  },
  {
   "cell_type": "code",
   "execution_count": null,
   "metadata": {},
   "outputs": [],
   "source": [
    "df[\"Components\"] = df[\"Task\"].map(\n",
    "    {\n",
    "        \"AND\": 2,\n",
    "        \"ANDNOT\": 3,\n",
    "        \"NAND\": 1,\n",
    "        \"NOR\": 4,\n",
    "        \"NOT\": 1,\n",
    "        \"OR\": 3,\n",
    "        \"ORNOT\": 2,\n",
    "        \"XOR\": 4,\n",
    "        \"EQUALS\": 5,\n",
    "    },\n",
    ")\n"
   ]
  },
  {
   "cell_type": "code",
   "execution_count": null,
   "metadata": {},
   "outputs": [],
   "source": [
    "df[\"codes for num tasks\"] = df.groupby(\n",
    "    [\"Site\", \"Lineage Generation Index\", \"Treatment\", \"Run ID\"],\n",
    "    observed=True,\n",
    ")[\"Is Task Coding Site\"].transform(\"sum\")\n"
   ]
  },
  {
   "cell_type": "code",
   "execution_count": null,
   "metadata": {},
   "outputs": [],
   "source": [
    "df[\"prev codes for num tasks\"] = df.groupby(\n",
    "    [\"Site\", \"Lineage Generation Index\", \"Treatment\", \"Run ID\"],\n",
    "    observed=True,\n",
    ")[\"Prev Is Task Coding Site\"].transform(\"sum\")\n"
   ]
  },
  {
   "cell_type": "code",
   "execution_count": null,
   "metadata": {},
   "outputs": [],
   "source": [
    "df[\"prev codes for tasks\"] = df[\"prev codes for num tasks\"].astype(bool)\n"
   ]
  },
  {
   "cell_type": "code",
   "execution_count": null,
   "metadata": {},
   "outputs": [],
   "source": [
    "df[\"prev coded for tasks\"] = df.groupby(\n",
    "    [\"Site\", \"Lineage Generation Index\", \"Treatment\", \"Run ID\"],\n",
    "    observed=True,\n",
    ")[\"Prev Is Task Coding Site Cumulative Count\"].transform(\"sum\")\n",
    "df[\"prev coded for tasks\"] = df[\"prev coded for tasks\"].astype(bool)\n"
   ]
  },
  {
   "cell_type": "code",
   "execution_count": null,
   "metadata": {},
   "outputs": [],
   "source": [
    "df['First Task Generation'] = df['Generation Born'].where(\n",
    "    df['has task'] != 0,\n",
    ").groupby(\n",
    "    [df['Treatment'], df['Run ID'], df['Task']],\n",
    "    observed=True,\n",
    ").transform('min')\n"
   ]
  },
  {
   "cell_type": "code",
   "execution_count": null,
   "metadata": {},
   "outputs": [],
   "source": [
    "df[\"SLIP_INSERTION_BOOL_MASK any\"] = df.groupby(\n",
    "    [\"Lineage Generation Index\", \"Treatment\", \"Run ID\"],\n",
    "    observed=True,\n",
    ")[\"SLIP_INSERTION_BOOL_MASK\"].transform(\"any\")\n"
   ]
  },
  {
   "cell_type": "code",
   "execution_count": null,
   "metadata": {},
   "outputs": [],
   "source": [
    "dff = df[\n",
    "    (df[\"delta has task\"] == 1)\n",
    "    & (df[\"Generation Born\"] == df[\"First Task Generation\"])\n",
    "    & (df[\"Treatment\"] == \"Slip-duplicate\")\n",
    "    # & df[\"Is Task Coding Site\"]\n",
    "].reset_index(drop=True)\n",
    "dff\n"
   ]
  },
  {
   "cell_type": "code",
   "execution_count": null,
   "metadata": {},
   "outputs": [],
   "source": [
    "dff.columns\n"
   ]
  },
  {
   "cell_type": "code",
   "execution_count": null,
   "metadata": {},
   "outputs": [],
   "source": [
    "tp.tee(\n",
    "    sns.catplot,\n",
    "    data=dff[\n",
    "        dff[\"SLIP_INSERTION_BOOL_MASK any\"]\n",
    "    ].astype(\n",
    "        {\"Prev Slip Insertion Cumulative Count\": bool},\n",
    "    ).groupby(\n",
    "        [\"Treatment\", \"Run ID\", \"Task\", \"Prev Slip Insertion Cumulative Count\"],\n",
    "        observed=True,\n",
    "    ).agg(\n",
    "        {\n",
    "            \"Is Task Coding Site\": \"mean\",\n",
    "            \"Components\": \"first\",\n",
    "        },\n",
    "    ),\n",
    "    x=\"Prev Slip Insertion Cumulative Count\",\n",
    "    y=\"Is Task Coding Site\",\n",
    "    col=\"Components\",\n",
    "    kind=\"bar\",\n",
    "    sharey=False,\n",
    ")\n"
   ]
  },
  {
   "cell_type": "code",
   "execution_count": null,
   "metadata": {},
   "outputs": [],
   "source": [
    "dfy = dff.groupby(\n",
    "    [\"Treatment\", \"Run ID\", \"Task\"],\n",
    "    observed=True,\n",
    ")[\"Is Task Coding Site\"].transform(\"mean\")\n",
    "print(dfy)\n",
    "\n",
    "dff[\"Mean Is Task Coding Site\"] = dfy\n"
   ]
  },
  {
   "cell_type": "code",
   "execution_count": null,
   "metadata": {},
   "outputs": [],
   "source": [
    "dfp = dff.astype(\n",
    "    {\"Prev Slip Insertion Cumulative Count\": bool},\n",
    ").groupby(\n",
    "    [\"Treatment\", \"Run ID\", \"Task\", \"Prev Slip Insertion Cumulative Count\"],\n",
    "    observed=True,\n",
    ").agg(\n",
    "    {\n",
    "        \"Mean Is Task Coding Site\": \"first\",\n",
    "        \"Is Task Coding Site\": \"mean\",\n",
    "        \"Components\": \"first\",\n",
    "        \"SLIP_INSERTION_BOOL_MASK any\": \"first\",\n",
    "    },\n",
    ")\n",
    "\n",
    "dfp[\"Is Task Coding Site\"] /= dfp[\"Mean Is Task Coding Site\"]\n",
    "dfp = dfp.reset_index()\n",
    "dfp\n"
   ]
  },
  {
   "cell_type": "code",
   "execution_count": null,
   "metadata": {},
   "outputs": [],
   "source": [
    "tp.tee(\n",
    "    sns.catplot,\n",
    "    data=dfp[\n",
    "        dfp[\"SLIP_INSERTION_BOOL_MASK any\"]\n",
    "    ],\n",
    "    hue=\"Prev Slip Insertion Cumulative Count\",\n",
    "    y=\"Is Task Coding Site\",\n",
    "    x=\"Components\",\n",
    "    # row=\"Treatment\",\n",
    "    kind=\"violin\",\n",
    "    density_norm=\"width\",\n",
    "    cut=0,\n",
    "    split=True,\n",
    "    gap=0.1,\n",
    "    # notch=True,\n",
    "    aspect=1.4,\n",
    "    teeplot_outattrs={\"slipgain\": \"only\"},\n",
    ")\n"
   ]
  },
  {
   "cell_type": "code",
   "execution_count": null,
   "metadata": {},
   "outputs": [],
   "source": [
    "# Perform Kruskal-Wallis test\n",
    "kruskal_results = dfp[\n",
    "    dfp[\"SLIP_INSERTION_BOOL_MASK any\"]\n",
    "].groupby(\"Components\").apply(\n",
    "    lambda x: scipy.stats.kruskal(\n",
    "        x[\n",
    "            x[\"Prev Slip Insertion Cumulative Count\"]\n",
    "        ][\"Is Task Coding Site\"],\n",
    "        x[\n",
    "            ~x[\"Prev Slip Insertion Cumulative Count\"]\n",
    "        ][\"Is Task Coding Site\"]\n",
    "    ),\n",
    "    include_groups=True,\n",
    ")\n",
    "\n",
    "# Create a DataFrame to store the results\n",
    "kruskal_df = pd.DataFrame(\n",
    "    kruskal_results.tolist(),\n",
    "    index=kruskal_results.index,\n",
    "    columns=[\"H-statistic\", \"p-value\"]\n",
    ")\n",
    "\n",
    "print(kruskal_df)\n",
    "# Calculate means and standard deviations for all groups\n",
    "group_stats = dfp[\n",
    "    dfp[\"SLIP_INSERTION_BOOL_MASK any\"]\n",
    "].groupby([\"Components\", \"Prev Slip Insertion Cumulative Count\"])[\"Is Task Coding Site\"].agg([\"mean\", \"std\"]).reset_index()\n",
    "\n",
    "# Print the group statistics\n",
    "print(group_stats)\n",
    "# Calculate group sizes\n",
    "group_sizes = dfp[\n",
    "    dfp[\"SLIP_INSERTION_BOOL_MASK any\"]\n",
    "].groupby([\"Components\", \"Prev Slip Insertion Cumulative Count\"]).size().reset_index(name='size')\n",
    "\n",
    "# Print the group sizes\n",
    "print(group_sizes)\n"
   ]
  },
  {
   "cell_type": "code",
   "execution_count": null,
   "metadata": {},
   "outputs": [],
   "source": [
    "tp.tee(\n",
    "    sns.catplot,\n",
    "    data=dfp,\n",
    "    hue=\"Prev Slip Insertion Cumulative Count\",\n",
    "    y=\"Is Task Coding Site\",\n",
    "    x=\"Components\",\n",
    "    # row=\"Treatment\",\n",
    "    kind=\"violin\",\n",
    "    density_norm=\"width\",\n",
    "    cut=0,\n",
    "    split=True,\n",
    "    gap=0.1,\n",
    "    # notch=True,\n",
    "    aspect=1.4,\n",
    ")\n"
   ]
  },
  {
   "cell_type": "code",
   "execution_count": null,
   "metadata": {},
   "outputs": [],
   "source": [
    "# Perform Kruskal-Wallis test\n",
    "kruskal_results = dfp.groupby(\"Components\").apply(\n",
    "    lambda x: scipy.stats.kruskal(\n",
    "        x[\n",
    "            x[\"Prev Slip Insertion Cumulative Count\"]\n",
    "        ][\"Is Task Coding Site\"],\n",
    "        x[\n",
    "            ~x[\"Prev Slip Insertion Cumulative Count\"]\n",
    "        ][\"Is Task Coding Site\"]\n",
    "    )\n",
    ")\n",
    "\n",
    "# Create a DataFrame to store the results\n",
    "kruskal_df = pd.DataFrame(\n",
    "    kruskal_results.tolist(),\n",
    "    index=kruskal_results.index,\n",
    "    columns=[\"H-statistic\", \"p-value\"]\n",
    ")\n",
    "\n",
    "print(kruskal_df)\n",
    "# Calculate means and standard deviations for all groups\n",
    "group_stats = dfp.groupby([\"Components\", \"Prev Slip Insertion Cumulative Count\"])[\"Is Task Coding Site\"].agg([\"mean\", \"std\"]).reset_index()\n",
    "\n",
    "# Print the group statistics\n",
    "print(group_stats)\n",
    "# Calculate group sizes\n",
    "group_sizes = dfp.groupby([\"Components\", \"Prev Slip Insertion Cumulative Count\"]).size().reset_index(name='size')\n",
    "\n",
    "# Print the group sizes\n",
    "print(group_sizes)\n"
   ]
  },
  {
   "cell_type": "code",
   "execution_count": null,
   "metadata": {},
   "outputs": [],
   "source": [
    "dfpx = dff[\n",
    "    ~dff[\"Prev Is Viability Site\"]\n",
    "].astype(\n",
    "    {\"Prev Slip Insertion Cumulative Count\": bool},\n",
    ").groupby(\n",
    "    [\"Treatment\", \"Run ID\", \"Task\", \"Prev Slip Insertion Cumulative Count\"],\n",
    "    observed=True,\n",
    ").agg(\n",
    "    {\n",
    "        \"Mean Is Task Coding Site\": \"first\",\n",
    "        \"Is Task Coding Site\": \"mean\",\n",
    "        \"Components\": \"first\",\n",
    "        \"SLIP_INSERTION_BOOL_MASK any\": \"first\",\n",
    "    },\n",
    ")\n",
    "\n",
    "dfpx[\"Is Task Coding Site\"] /= dfpx[\"Mean Is Task Coding Site\"]\n",
    "dfpx = dfpx.reset_index()\n",
    "print(dfpx)\n",
    "\n",
    "tp.tee(\n",
    "    sns.catplot,\n",
    "    data=dfpx,\n",
    "    hue=\"Prev Slip Insertion Cumulative Count\",\n",
    "    y=\"Is Task Coding Site\",\n",
    "    x=\"Components\",\n",
    "    # row=\"Treatment\",\n",
    "    kind=\"violin\",\n",
    "    density_norm=\"width\",\n",
    "    cut=0,\n",
    "    split=True,\n",
    "    gap=0.1,\n",
    "    # notch=True,\n",
    "    aspect=1.4,\n",
    "    teeplot_outattrs={\"slipgain\": \"only\"},\n",
    ")\n"
   ]
  },
  {
   "cell_type": "code",
   "execution_count": null,
   "metadata": {},
   "outputs": [],
   "source": [
    "# Perform Kruskal-Wallis test\n",
    "kruskal_results = dfpx.groupby(\"Components\").apply(\n",
    "    lambda x: scipy.stats.kruskal(\n",
    "        x[\n",
    "            x[\"Prev Slip Insertion Cumulative Count\"]\n",
    "        ][\"Is Task Coding Site\"],\n",
    "        x[\n",
    "            ~x[\"Prev Slip Insertion Cumulative Count\"]\n",
    "        ][\"Is Task Coding Site\"]\n",
    "    )\n",
    ")\n",
    "\n",
    "# Create a DataFrame to store the results\n",
    "kruskal_df = pd.DataFrame(\n",
    "    kruskal_results.tolist(),\n",
    "    index=kruskal_results.index,\n",
    "    columns=[\"H-statistic\", \"p-value\"]\n",
    ")\n",
    "\n",
    "print(kruskal_df)\n",
    "# Calculate means and standard deviations for all groups\n",
    "group_stats = dfpx.groupby([\"Components\", \"Prev Slip Insertion Cumulative Count\"])[\"Is Task Coding Site\"].agg([\"mean\", \"std\"]).reset_index()\n",
    "\n",
    "# Print the group statistics\n",
    "print(group_stats)\n",
    "# Calculate group sizes\n",
    "group_sizes = dfpx.groupby([\"Components\", \"Prev Slip Insertion Cumulative Count\"]).size().reset_index(name='size')\n",
    "\n",
    "# Print the group sizes\n",
    "print(group_sizes)\n"
   ]
  },
  {
   "cell_type": "code",
   "execution_count": null,
   "metadata": {},
   "outputs": [],
   "source": [
    "tp.tee(\n",
    "    sns.displot,\n",
    "    data=dff.astype(\n",
    "        {\"Prev Slip Insertion Cumulative Count\": bool},\n",
    "    ).groupby(\n",
    "        [\"Treatment\", \"Run ID\", \"Task\", \"Prev Slip Insertion Cumulative Count\"],\n",
    "        observed=True,\n",
    "    ).agg(\n",
    "        {\n",
    "            \"Is Task Coding Site\": \"mean\",\n",
    "            \"Components\": \"first\",\n",
    "            \"Task\": \"first\",\n",
    "        },\n",
    "    ),\n",
    "    x=\"Prev Slip Insertion Cumulative Count\",\n",
    "    col=\"Components\",\n",
    "    # row=\"Treatment\",\n",
    "    kind=\"hist\",\n",
    "    stat=\"count\",\n",
    ")\n"
   ]
  },
  {
   "cell_type": "code",
   "execution_count": null,
   "metadata": {},
   "outputs": [],
   "source": [
    "tp.tee(\n",
    "    sns.catplot,\n",
    "    data=dff.astype(\n",
    "        {\"Prev Slip Insertion Cumulative Count\": bool},\n",
    "    ).groupby(\n",
    "        [\"Treatment\", \"Run ID\", \"Task\"],\n",
    "        observed=True,\n",
    "    ).agg(\n",
    "        {\n",
    "            \"Prev Slip Insertion Cumulative Count\": \"mean\",\n",
    "            \"Is Task Coding Site\": \"mean\",\n",
    "            \"Components\": \"first\",\n",
    "            \"Task\": \"first\",\n",
    "        },\n",
    "    ),\n",
    "    y=\"Prev Slip Insertion Cumulative Count\",\n",
    "    x=\"Components\",\n",
    "    hue=\"Is Task Coding Site\",\n",
    "    kind=\"swarm\",\n",
    ")\n"
   ]
  },
  {
   "cell_type": "code",
   "execution_count": null,
   "metadata": {},
   "outputs": [],
   "source": [
    "for multiple in \"fill\", \"stack\":\n",
    "    tp.tee(\n",
    "        sns.displot,\n",
    "        data=dff.astype(\n",
    "            {\n",
    "                \"Components\": \"category\",\n",
    "                \"Prev Slip Insertion Cumulative Count\": bool\n",
    "            },\n",
    "        ),\n",
    "        hue=\"Prev Slip Insertion Cumulative Count\",\n",
    "        x=\"Components\",\n",
    "        kind=\"hist\",\n",
    "        multiple=multiple,\n",
    "        shrink=0.8,\n",
    "    )\n"
   ]
  },
  {
   "cell_type": "code",
   "execution_count": null,
   "metadata": {},
   "outputs": [],
   "source": [
    "tp.tee(\n",
    "    sns.catplot,\n",
    "    data=dff.astype(\n",
    "        {\"Prev Is Viability Site\": bool}\n",
    "    ),\n",
    "    x=\"Prev Is Viability Site\",\n",
    "    y=\"Is Task Coding Site\",\n",
    "    col=\"Components\",\n",
    "    kind=\"bar\",\n",
    "    sharey=False,\n",
    ")\n"
   ]
  },
  {
   "cell_type": "code",
   "execution_count": null,
   "metadata": {},
   "outputs": [],
   "source": [
    "tp.tee(\n",
    "    sns.catplot,\n",
    "    data=dff.astype(\n",
    "        {\"Prev Slip Insertion Cumulative Count\": bool}\n",
    "    ),\n",
    "    x=\"Prev Is Viability Site\",\n",
    "    y=\"Prev Slip Insertion Cumulative Count\",\n",
    "    col=\"Components\",\n",
    "    kind=\"bar\",\n",
    "    sharey=False,\n",
    ")\n"
   ]
  },
  {
   "cell_type": "code",
   "execution_count": null,
   "metadata": {},
   "outputs": [],
   "source": [
    "tp.tee(\n",
    "    sns.catplot,\n",
    "    data=dff.astype(\n",
    "        {\"Prev Slip Insertion Cumulative Count\": bool}\n",
    "    ),\n",
    "    x=\"prev codes for tasks\",\n",
    "    y=\"Is Task Coding Site\",\n",
    "    col=\"Components\",\n",
    "    kind=\"bar\",\n",
    "    sharey=False,\n",
    ")\n"
   ]
  },
  {
   "cell_type": "code",
   "execution_count": null,
   "metadata": {},
   "outputs": [],
   "source": [
    "tp.tee(\n",
    "    sns.catplot,\n",
    "    data=dff.astype(\n",
    "        {\"Prev Slip Insertion Cumulative Count\": bool}\n",
    "    ),\n",
    "    x=\"Prev Slip Insertion Cumulative Count\",\n",
    "    y=\"prev codes for tasks\",\n",
    "    col=\"Components\",\n",
    "    kind=\"bar\",\n",
    "    sharey=False,\n",
    ")\n"
   ]
  },
  {
   "cell_type": "code",
   "execution_count": null,
   "metadata": {},
   "outputs": [],
   "source": [
    "tp.tee(\n",
    "    sns.catplot,\n",
    "    data=dff.astype(\n",
    "        {\"Prev Slip Insertion Cumulative Count\": bool}\n",
    "    ),\n",
    "    x=\"SLIP_INSERTION_BOOL_MASK\",\n",
    "    y=\"Is Task Coding Site\",\n",
    "    col=\"Components\",\n",
    "    kind=\"bar\",\n",
    "    sharey=False,\n",
    ")\n"
   ]
  },
  {
   "cell_type": "code",
   "execution_count": null,
   "metadata": {},
   "outputs": [],
   "source": [
    "tp.tee(\n",
    "    sns.displot,\n",
    "    data=dff.astype(\n",
    "        {\"Is Task Coding Site\": \"category\", \"Components\": \"category\"}\n",
    "    ),\n",
    "    multiple=\"fill\",\n",
    "    x=\"Is Task Coding Site\",\n",
    "    col=\"Components\",\n",
    "    kind=\"hist\",\n",
    "    hue=\"prev codes for num tasks\",\n",
    "    row=\"Treatment\",\n",
    ")\n"
   ]
  },
  {
   "cell_type": "code",
   "execution_count": null,
   "metadata": {},
   "outputs": [],
   "source": [
    "tp.tee(\n",
    "    sns.catplot,\n",
    "    data=dff[\n",
    "        dff[\"Is Task Coding Site\"]\n",
    "    ].groupby(\n",
    "        [\"Lineage Generation Index\", \"Treatment\", \"Run ID\", \"Components\"],\n",
    "        observed=True,\n",
    "    )['prev codes for tasks'].sum().reset_index(),\n",
    "    hue=\"Treatment\",\n",
    "    y=\"prev codes for tasks\",\n",
    "    x=\"Components\",\n",
    "    kind=\"box\",\n",
    "    notch=True,\n",
    ")\n"
   ]
  },
  {
   "cell_type": "code",
   "execution_count": null,
   "metadata": {},
   "outputs": [],
   "source": [
    "tp.tee(\n",
    "    sns.catplot,\n",
    "    data=dff[\n",
    "        dff[\"Is Task Coding Site\"]\n",
    "    ].groupby(\n",
    "        [\"Lineage Generation Index\", \"Treatment\", \"Run ID\", \"Components\"],\n",
    "        observed=True,\n",
    "    )['prev coded for tasks'].sum().reset_index(),\n",
    "    hue=\"Treatment\",\n",
    "    y=\"prev coded for tasks\",\n",
    "    x=\"Components\",\n",
    "    kind=\"box\",\n",
    "    notch=True,\n",
    ")\n"
   ]
  },
  {
   "cell_type": "code",
   "execution_count": null,
   "metadata": {},
   "outputs": [],
   "source": [
    "tp.tee(\n",
    "    sns.catplot,\n",
    "    data=dff[\n",
    "        dff[\"Is Task Coding Site\"]\n",
    "    ].groupby(\n",
    "        [\"Lineage Generation Index\", \"Treatment\", \"Run ID\", \"Components\"],\n",
    "        observed=True,\n",
    "    )['prev codes for tasks'].mean().reset_index(),\n",
    "    hue=\"Treatment\",\n",
    "    y=\"prev codes for tasks\",\n",
    "    x=\"Components\",\n",
    "    kind=\"box\",\n",
    "    notch=True,\n",
    ")\n"
   ]
  },
  {
   "cell_type": "code",
   "execution_count": null,
   "metadata": {},
   "outputs": [],
   "source": [
    "tp.tee(\n",
    "    sns.catplot,\n",
    "    data=dff[\n",
    "        dff[\"Is Task Coding Site\"]\n",
    "    ].groupby(\n",
    "        [\"Lineage Generation Index\", \"Treatment\", \"Run ID\", \"Components\"],\n",
    "        observed=True,\n",
    "    )['prev coded for tasks'].mean().reset_index(),\n",
    "    hue=\"Treatment\",\n",
    "    y=\"prev coded for tasks\",\n",
    "    x=\"Components\",\n",
    "    kind=\"box\",\n",
    "    notch=True,\n",
    ")\n"
   ]
  },
  {
   "cell_type": "code",
   "execution_count": null,
   "metadata": {},
   "outputs": [],
   "source": [
    "dff[\"one\"] = 1\n",
    "tp.tee(\n",
    "    sns.catplot,\n",
    "    data=dff[\n",
    "        dff[\"Is Task Coding Site\"]\n",
    "    ].groupby(\n",
    "        [\"Lineage Generation Index\", \"Treatment\", \"Run ID\", \"Components\"],\n",
    "        observed=True,\n",
    "    )['one'].sum().reset_index(),\n",
    "    hue=\"Treatment\",\n",
    "    y=\"one\",\n",
    "    x=\"Components\",\n",
    "    kind=\"box\",\n",
    "    notch=True,\n",
    ")\n"
   ]
  }
 ],
 "metadata": {
  "kernelspec": {
   "display_name": "Python 3",
   "language": "python",
   "name": "python3"
  },
  "language_info": {
   "codemirror_mode": {
    "name": "ipython",
    "version": 3
   },
   "file_extension": ".py",
   "mimetype": "text/x-python",
   "name": "python",
   "nbconvert_exporter": "python",
   "pygments_lexer": "ipython3"
  }
 },
 "nbformat": 4,
 "nbformat_minor": 2
}
