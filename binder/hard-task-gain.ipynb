{
 "cells": [
  {
   "cell_type": "code",
   "execution_count": null,
   "metadata": {},
   "outputs": [],
   "source": [
    "import numpy as np\n",
    "from matplotlib import pyplot as plt\n",
    "import pandas as pd\n",
    "import seaborn as sns\n",
    "from teeplot import teeplot as tp\n"
   ]
  },
  {
   "cell_type": "code",
   "execution_count": null,
   "metadata": {},
   "outputs": [],
   "source": [
    "df = pd.read_parquet(\"https://osf.io/gk2ty/download\")\n"
   ]
  },
  {
   "cell_type": "code",
   "execution_count": null,
   "metadata": {},
   "outputs": [],
   "source": [
    "df.columns\n"
   ]
  },
  {
   "cell_type": "code",
   "execution_count": null,
   "metadata": {},
   "outputs": [],
   "source": [
    "df[\"Components\"] = df[\"Task\"].map(\n",
    "    {\n",
    "        \"AND\": 2,\n",
    "        \"ANDNOT\": 3,\n",
    "        \"NAND\": 1,\n",
    "        \"NOR\": 4,\n",
    "        \"NOT\": 1,\n",
    "        \"OR\": 3,\n",
    "        \"ORNOT\": 2,\n",
    "        \"XOR\": 4,\n",
    "        \"EQUALS\": 5,\n",
    "    },\n",
    ")\n"
   ]
  },
  {
   "cell_type": "code",
   "execution_count": null,
   "metadata": {},
   "outputs": [],
   "source": [
    "df[\"codes for num tasks\"] = df.groupby(\n",
    "    [\"Site\", \"Lineage Generation Index\", \"Treatment\", \"Run ID\"],\n",
    "    observed=True,\n",
    ")[\"Is Task Coding Site\"].transform(\"sum\")\n"
   ]
  },
  {
   "cell_type": "code",
   "execution_count": null,
   "metadata": {},
   "outputs": [],
   "source": [
    "df[\"prev codes for num tasks\"] = df.groupby(\n",
    "    [\"Site\", \"Lineage Generation Index\", \"Treatment\", \"Run ID\"],\n",
    "    observed=True,\n",
    ")[\"Prev Is Task Coding Site\"].transform(\"sum\")\n"
   ]
  },
  {
   "cell_type": "code",
   "execution_count": null,
   "metadata": {},
   "outputs": [],
   "source": [
    "df[\"prev codes for tasks\"] = df[\"prev codes for num tasks\"].astype(bool)\n"
   ]
  },
  {
   "cell_type": "code",
   "execution_count": null,
   "metadata": {},
   "outputs": [],
   "source": [
    "df[\"prev coded for tasks\"] = df.groupby(\n",
    "    [\"Site\", \"Lineage Generation Index\", \"Treatment\", \"Run ID\"],\n",
    "    observed=True,\n",
    ")[\"Prev Is Task Coding Site Cumulative Count\"].transform(\"sum\")\n",
    "df[\"prev coded for tasks\"] = df[\"prev coded for tasks\"].astype(bool)\n"
   ]
  },
  {
   "cell_type": "code",
   "execution_count": null,
   "metadata": {},
   "outputs": [],
   "source": [
    "df['First Task Generation'] = df['Generation Born'].where(\n",
    "    df['has task'] != 0,\n",
    ").groupby(\n",
    "    [df['Treatment'], df['Run ID'], df['Task']],\n",
    "    observed=True,\n",
    ").transform('min')\n"
   ]
  },
  {
   "cell_type": "code",
   "execution_count": null,
   "metadata": {},
   "outputs": [],
   "source": [
    "df[\"SLIP_INSERTION_BOOL_MASK any\"] = df.groupby(\n",
    "    [\"Lineage Generation Index\", \"Treatment\", \"Run ID\"],\n",
    "    observed=True,\n",
    ")[\"SLIP_INSERTION_BOOL_MASK\"].transform(\"any\")\n"
   ]
  },
  {
   "cell_type": "code",
   "execution_count": null,
   "metadata": {},
   "outputs": [],
   "source": [
    "dff = df[\n",
    "    (df[\"delta has task\"] == 1)\n",
    "    # & (df[\"Generation Born\"] == df[\"First Task Generation\"])\n",
    "    # & df[\"Is Task Coding Site\"]\n",
    "].reset_index(drop=True)\n",
    "dff\n"
   ]
  },
  {
   "cell_type": "code",
   "execution_count": null,
   "metadata": {},
   "outputs": [],
   "source": [
    "dff.columns\n"
   ]
  },
  {
   "cell_type": "code",
   "execution_count": null,
   "metadata": {},
   "outputs": [],
   "source": [
    "tp.tee(\n",
    "    sns.catplot,\n",
    "    data=dff[\n",
    "        ~dff[\"Prev Is Viability Site\"]\n",
    "    ].astype(\n",
    "        {\"Prev Slip Insertion Cumulative Count\": bool}\n",
    "    ),\n",
    "    x=\"Prev Slip Insertion Cumulative Count\",\n",
    "    y=\"Is Task Coding Site\",\n",
    "    col=\"Components\",\n",
    "    kind=\"bar\",\n",
    "    sharey=False,\n",
    ")\n"
   ]
  },
  {
   "cell_type": "code",
   "execution_count": null,
   "metadata": {},
   "outputs": [],
   "source": [
    "tp.tee(\n",
    "    sns.displot,\n",
    "    data=dff[\n",
    "        ~dff[\"SLIP_INSERTION_BOOL_MASK\"]\n",
    "    ].astype(\n",
    "        {\"Slip Insertion Cumulative Count\": bool},\n",
    "    ),\n",
    "    hue=\"Slip Insertion Cumulative Count\",\n",
    "    x=\"Components\",\n",
    "    kind=\"hist\",\n",
    "    multiple=\"stack\",\n",
    "    shrink=25,\n",
    ")\n"
   ]
  },
  {
   "cell_type": "code",
   "execution_count": null,
   "metadata": {},
   "outputs": [],
   "source": [
    "tp.tee(\n",
    "    sns.catplot,\n",
    "    data=dff.astype(\n",
    "        {\"Prev Is Viability Site\": bool}\n",
    "    ),\n",
    "    x=\"Prev Is Viability Site\",\n",
    "    y=\"Is Task Coding Site\",\n",
    "    col=\"Components\",\n",
    "    kind=\"bar\",\n",
    "    sharey=False,\n",
    ")\n"
   ]
  },
  {
   "cell_type": "code",
   "execution_count": null,
   "metadata": {},
   "outputs": [],
   "source": [
    "tp.tee(\n",
    "    sns.catplot,\n",
    "    data=dff.astype(\n",
    "        {\"Prev Slip Insertion Cumulative Count\": bool}\n",
    "    ),\n",
    "    x=\"Prev Is Viability Site\",\n",
    "    y=\"Prev Slip Insertion Cumulative Count\",\n",
    "    col=\"Components\",\n",
    "    kind=\"bar\",\n",
    "    sharey=False,\n",
    ")\n"
   ]
  },
  {
   "cell_type": "code",
   "execution_count": null,
   "metadata": {},
   "outputs": [],
   "source": [
    "tp.tee(\n",
    "    sns.catplot,\n",
    "    data=dff.astype(\n",
    "        {\"Prev Slip Insertion Cumulative Count\": bool}\n",
    "    ),\n",
    "    x=\"prev codes for tasks\",\n",
    "    y=\"Is Task Coding Site\",\n",
    "    col=\"Components\",\n",
    "    kind=\"bar\",\n",
    "    sharey=False,\n",
    ")\n"
   ]
  },
  {
   "cell_type": "code",
   "execution_count": null,
   "metadata": {},
   "outputs": [],
   "source": [
    "tp.tee(\n",
    "    sns.catplot,\n",
    "    data=dff.astype(\n",
    "        {\"Prev Slip Insertion Cumulative Count\": bool}\n",
    "    ),\n",
    "    x=\"Prev Slip Insertion Cumulative Count\",\n",
    "    y=\"prev codes for tasks\",\n",
    "    col=\"Components\",\n",
    "    kind=\"bar\",\n",
    "    sharey=False,\n",
    ")\n"
   ]
  },
  {
   "cell_type": "code",
   "execution_count": null,
   "metadata": {},
   "outputs": [],
   "source": [
    "tp.tee(\n",
    "    sns.catplot,\n",
    "    data=dff.astype(\n",
    "        {\"Prev Slip Insertion Cumulative Count\": bool}\n",
    "    ),\n",
    "    x=\"SLIP_INSERTION_BOOL_MASK\",\n",
    "    y=\"Is Task Coding Site\",\n",
    "    col=\"Components\",\n",
    "    kind=\"bar\",\n",
    "    sharey=False,\n",
    ")\n"
   ]
  },
  {
   "cell_type": "code",
   "execution_count": null,
   "metadata": {},
   "outputs": [],
   "source": [
    "tp.tee(\n",
    "    sns.displot,\n",
    "    data=dff.astype(\n",
    "        {\"Is Task Coding Site\": \"category\", \"Components\": \"category\"}\n",
    "    ),\n",
    "    multiple=\"fill\",\n",
    "    x=\"Is Task Coding Site\",\n",
    "    col=\"Components\",\n",
    "    kind=\"hist\",\n",
    "    hue=\"prev codes for num tasks\",\n",
    "    row=\"Treatment\",\n",
    ")\n"
   ]
  },
  {
   "cell_type": "code",
   "execution_count": null,
   "metadata": {},
   "outputs": [],
   "source": [
    "tp.tee(\n",
    "    sns.catplot,\n",
    "    data=dff[\n",
    "        dff[\"Is Task Coding Site\"]\n",
    "    ].groupby(\n",
    "        [\"Lineage Generation Index\", \"Treatment\", \"Run ID\", \"Components\"],\n",
    "        observed=True,\n",
    "    )['prev codes for tasks'].sum().reset_index(),\n",
    "    hue=\"Treatment\",\n",
    "    y=\"prev codes for tasks\",\n",
    "    x=\"Components\",\n",
    "    kind=\"box\",\n",
    "    notch=True,\n",
    ")\n"
   ]
  },
  {
   "cell_type": "code",
   "execution_count": null,
   "metadata": {},
   "outputs": [],
   "source": [
    "tp.tee(\n",
    "    sns.catplot,\n",
    "    data=dff[\n",
    "        dff[\"Is Task Coding Site\"]\n",
    "    ].groupby(\n",
    "        [\"Lineage Generation Index\", \"Treatment\", \"Run ID\", \"Components\"],\n",
    "        observed=True,\n",
    "    )['prev coded for tasks'].sum().reset_index(),\n",
    "    hue=\"Treatment\",\n",
    "    y=\"prev coded for tasks\",\n",
    "    x=\"Components\",\n",
    "    kind=\"box\",\n",
    "    notch=True,\n",
    ")\n"
   ]
  },
  {
   "cell_type": "code",
   "execution_count": null,
   "metadata": {},
   "outputs": [],
   "source": [
    "tp.tee(\n",
    "    sns.catplot,\n",
    "    data=dff[\n",
    "        dff[\"Is Task Coding Site\"]\n",
    "    ].groupby(\n",
    "        [\"Lineage Generation Index\", \"Treatment\", \"Run ID\", \"Components\"],\n",
    "        observed=True,\n",
    "    )['prev codes for tasks'].mean().reset_index(),\n",
    "    hue=\"Treatment\",\n",
    "    y=\"prev codes for tasks\",\n",
    "    x=\"Components\",\n",
    "    kind=\"box\",\n",
    "    notch=True,\n",
    ")\n"
   ]
  },
  {
   "cell_type": "code",
   "execution_count": null,
   "metadata": {},
   "outputs": [],
   "source": [
    "tp.tee(\n",
    "    sns.catplot,\n",
    "    data=dff[\n",
    "        dff[\"Is Task Coding Site\"]\n",
    "    ].groupby(\n",
    "        [\"Lineage Generation Index\", \"Treatment\", \"Run ID\", \"Components\"],\n",
    "        observed=True,\n",
    "    )['prev coded for tasks'].mean().reset_index(),\n",
    "    hue=\"Treatment\",\n",
    "    y=\"prev coded for tasks\",\n",
    "    x=\"Components\",\n",
    "    kind=\"box\",\n",
    "    notch=True,\n",
    ")\n"
   ]
  },
  {
   "cell_type": "code",
   "execution_count": null,
   "metadata": {},
   "outputs": [],
   "source": [
    "dff[\"one\"] = 1\n",
    "tp.tee(\n",
    "    sns.catplot,\n",
    "    data=dff[\n",
    "        dff[\"Is Task Coding Site\"]\n",
    "    ].groupby(\n",
    "        [\"Lineage Generation Index\", \"Treatment\", \"Run ID\", \"Components\"],\n",
    "        observed=True,\n",
    "    )['one'].sum().reset_index(),\n",
    "    hue=\"Treatment\",\n",
    "    y=\"one\",\n",
    "    x=\"Components\",\n",
    "    kind=\"box\",\n",
    "    notch=True,\n",
    ")\n"
   ]
  }
 ],
 "metadata": {
  "kernelspec": {
   "display_name": "Python 3",
   "language": "python",
   "name": "python3"
  },
  "language_info": {
   "codemirror_mode": {
    "name": "ipython",
    "version": 3
   },
   "file_extension": ".py",
   "mimetype": "text/x-python",
   "name": "python",
   "nbconvert_exporter": "python",
   "pygments_lexer": "ipython3"
  }
 },
 "nbformat": 4,
 "nbformat_minor": 2
}
