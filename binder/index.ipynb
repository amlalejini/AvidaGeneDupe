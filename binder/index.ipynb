{
 "cells": [
  {
   "cell_type": "markdown",
   "metadata": {},
   "source": [
    "## Set Up Dependencies and Data\n"
   ]
  },
  {
   "cell_type": "code",
   "execution_count": null,
   "metadata": {},
   "outputs": [],
   "source": [
    "import joblib\n",
    "from matplotlib import pyplot as plt\n",
    "import numpy as np\n",
    "import pandas as pd\n",
    "import seaborn as sns\n",
    "from tqdm import tqdm\n"
   ]
  },
  {
   "cell_type": "code",
   "execution_count": null,
   "metadata": {},
   "outputs": [],
   "source": [
    "slip_df = pd.read_csv(\"https://osf.io/s36qy/download\")\n",
    "baseline_df = pd.read_csv(\"https://osf.io/a48ch/download\")\n"
   ]
  },
  {
   "cell_type": "markdown",
   "metadata": {},
   "source": [
    "## Reproducibility\n"
   ]
  },
  {
   "cell_type": "code",
   "execution_count": null,
   "metadata": {},
   "outputs": [],
   "source": [
    "%load_ext watermark\n",
    "%watermark -iwbmuvg -iv\n"
   ]
  },
  {
   "cell_type": "code",
   "execution_count": null,
   "metadata": {},
   "outputs": [],
   "source": [
    "joblib.hash(slip_df)\n"
   ]
  },
  {
   "cell_type": "code",
   "execution_count": null,
   "metadata": {},
   "outputs": [],
   "source": [
    "joblib.hash(baseline_df)\n"
   ]
  },
  {
   "cell_type": "markdown",
   "metadata": {},
   "source": [
    "# Preprocess data\n"
   ]
  },
  {
   "cell_type": "code",
   "execution_count": null,
   "metadata": {},
   "outputs": [],
   "source": [
    "slip_df[\"condition\"] = \"slip\"\n",
    "baseline_df[\"condition\"] = \"baseline\"\n",
    "\n",
    "df = pd.concat([slip_df, baseline_df])\n"
   ]
  },
  {
   "cell_type": "code",
   "execution_count": null,
   "metadata": {},
   "outputs": [],
   "source": [
    "df[\"Task Coding Sites\"] = df[\"Task Coding Sites\"].apply(eval)\n"
   ]
  },
  {
   "cell_type": "code",
   "execution_count": null,
   "metadata": {},
   "outputs": [],
   "source": [
    "df[\"Run ID\"] = df[\"Unnamed: 0\"].apply(lambda x: x.split(\",\")[0])\n",
    "df[\"Task\"] = df[\"Unnamed: 0\"].apply(lambda x: x.split(\",\")[1])\n"
   ]
  },
  {
   "cell_type": "code",
   "execution_count": null,
   "metadata": {},
   "outputs": [],
   "source": [
    "tidy_df = df.explode(\"Task Coding Sites\")\n",
    "tidy_df\n"
   ]
  },
  {
   "cell_type": "markdown",
   "metadata": {},
   "source": [
    "### Draw Genome Maps\n"
   ]
  },
  {
   "cell_type": "code",
   "execution_count": null,
   "metadata": {},
   "outputs": [],
   "source": [
    "n_groups = len(tidy_df.groupby([\"Run ID\", \"Length\", \"condition\"]))\n",
    "n_rows = int(np.ceil(np.sqrt(n_groups)))\n",
    "n_cols = n_rows\n",
    "plt.figure(figsize=(n_cols * 10, n_rows * 6))\n",
    "\n",
    "for ax, (idx, group_df) in tqdm(\n",
    "    zip(\n",
    "        plt.subplots(\n",
    "            n_rows,\n",
    "            n_cols,\n",
    "            sharex=True,\n",
    "            sharey=True,\n",
    "            squeeze=False,\n",
    "            figsize=(n_cols * 10, n_rows * 6),\n",
    "        )[1].ravel(),\n",
    "        tidy_df.groupby([\"Run ID\", \"Length\", \"condition\"], sort=True),\n",
    "    ),\n",
    "):\n",
    "\n",
    "    pivot_df = group_df.pivot_table(\n",
    "        aggfunc=\"count\",\n",
    "        columns=\"Task Coding Sites\",\n",
    "        index=\"Task\",\n",
    "        values=\"Length\",\n",
    "    )\n",
    "    for col in pivot_df.columns:\n",
    "        vals = pivot_df[col].values\n",
    "        pivot_df[col] = pivot_df[col] * np.array(range(len(vals)))\n",
    "\n",
    "    for task in df[\"Task\"].unique():\n",
    "        if task not in pivot_df.index:\n",
    "            pivot_df.loc[task] = np.nan\n",
    "\n",
    "    df.sort_index(axis=1)\n",
    "\n",
    "    sns.heatmap(\n",
    "        pivot_df,\n",
    "        ax=ax,\n",
    "        cbar=False,\n",
    "        cmap=sns.color_palette()[:10],\n",
    "        vmin=0,\n",
    "        vmax=10,\n",
    "    )\n",
    "    ax.set_title(idx[2])\n",
    "\n",
    "\n",
    "plt.savefig(\"genome_layouts.png\", dpi=500)\n"
   ]
  }
 ],
 "metadata": {
  "kernelspec": {
   "display_name": "Python 3",
   "language": "python",
   "name": "python3"
  },
  "language_info": {
   "codemirror_mode": {
    "name": "ipython",
    "version": 3
   },
   "file_extension": ".py",
   "mimetype": "text/x-python",
   "name": "python",
   "nbconvert_exporter": "python",
   "pygments_lexer": "ipython3"
  }
 },
 "nbformat": 4,
 "nbformat_minor": 4
}
