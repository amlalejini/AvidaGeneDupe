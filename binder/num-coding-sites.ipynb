{
 "cells": [
  {
   "cell_type": "code",
   "execution_count": null,
   "metadata": {},
   "outputs": [],
   "source": [
    "import os\n",
    "\n",
    "import numpy as np\n",
    "from matplotlib import pyplot as plt\n",
    "import pandas as pd\n",
    "import polars as pl\n",
    "import scipy\n",
    "import seaborn as sns\n",
    "from teeplot import teeplot as tp\n"
   ]
  },
  {
   "cell_type": "code",
   "execution_count": null,
   "metadata": {},
   "outputs": [],
   "source": [
    "if \"CI\" not in os.environ:\n",
    "    df = pl.read_parquet(\n",
    "        \"https://osf.io/gk2ty/download\",\n",
    "        use_pyarrow=True,\n",
    "    )\n",
    "    print(df.columns)\n"
   ]
  },
  {
   "cell_type": "code",
   "execution_count": null,
   "metadata": {},
   "outputs": [],
   "source": [
    "if \"CI\" not in os.environ:\n",
    "    df = df.with_columns(\n",
    "        pl.col(\"SLIP_INSERTION_BOOL_MASK\").any().over(\n",
    "            [\"Treatment\", \"Run ID\", \"Generation Born\"],\n",
    "        ).alias(\"SLIP_INSERTION_BOOL_MASK any\"),\n",
    "    )\n"
   ]
  },
  {
   "cell_type": "code",
   "execution_count": null,
   "metadata": {},
   "outputs": [],
   "source": [
    "if \"CI\" not in os.environ:\n",
    "    df = df.with_columns(\n",
    "        pl.col(\"Is Task Coding Site\").any().over(\n",
    "            [\"Treatment\", \"Run ID\", \"Generation Born\", \"Site\"],\n",
    "        )\n",
    "        .alias(\"is any coding site\"),\n",
    "    )\n"
   ]
  },
  {
   "cell_type": "code",
   "execution_count": null,
   "metadata": {},
   "outputs": [],
   "source": [
    "if \"CI\" not in os.environ:\n",
    "    df = df.with_columns(\n",
    "            pl.col(\"Is Task Coding Site Delta\").sum().over(\n",
    "                [\"Treatment\", \"Run ID\", \"Generation Born\"],\n",
    "            )\n",
    "            .alias(\"is task coding site delta sum\"),\n",
    "        )\n"
   ]
  },
  {
   "cell_type": "code",
   "execution_count": null,
   "metadata": {},
   "outputs": [],
   "source": [
    "if \"CI\" not in os.environ:\n",
    "    df = df.with_columns(\n",
    "        pl.col(\"has task\").sum().over(\n",
    "            [\"Treatment\", \"Run ID\", \"Generation Born\", \"Site\"],\n",
    "        )\n",
    "        .alias(\"num tasks has\"),\n",
    "    )\n"
   ]
  },
  {
   "cell_type": "code",
   "execution_count": null,
   "metadata": {},
   "outputs": [],
   "source": [
    "if \"CI\" not in os.environ:\n",
    "    df = df.with_columns(\n",
    "        pl.col(\"is any coding site\").sum().over(\n",
    "            [\"Treatment\", \"Run ID\", \"Generation Born\", \"Task\",],\n",
    "        ).alias(\"num coding sites\"),\n",
    "    )\n"
   ]
  },
  {
   "cell_type": "code",
   "execution_count": null,
   "metadata": {},
   "outputs": [],
   "source": [
    "if \"CI\" not in os.environ:\n",
    "    df = df.with_columns(\n",
    "        pl.col(\"Is Task Coding Site Cumulative Count\").sum().over(\n",
    "            [\"Site\", \"Lineage Generation Index\", \"Treatment\", \"Run ID\"]\n",
    "        ).sign().alias(\"coded for tasks\")\n",
    "    )\n"
   ]
  },
  {
   "cell_type": "code",
   "execution_count": null,
   "metadata": {},
   "outputs": [],
   "source": [
    "if \"CI\" not in os.environ:\n",
    "    df = df.with_columns(\n",
    "        pl.col(\"coded for tasks\").sum().over(\n",
    "            [\"Treatment\", \"Run ID\", \"Generation Born\", \"Task\",],\n",
    "        ).alias(\"num coded sites\"),\n",
    "    )\n"
   ]
  },
  {
   "cell_type": "code",
   "execution_count": null,
   "metadata": {},
   "outputs": [],
   "source": [
    "if \"CI\" not in os.environ:\n",
    "    df = df.with_columns(\n",
    "        Components=pl.col(\"Task\").replace_strict(\n",
    "            {\n",
    "                \"AND\": 2,\n",
    "                \"ANDNOT\": 3,\n",
    "                \"NAND\": 1,\n",
    "                \"NOR\": 4,\n",
    "                \"NOT\": 1,\n",
    "                \"OR\": 3,\n",
    "                \"ORNOT\": 2,\n",
    "                \"XOR\": 4,\n",
    "                \"EQUALS\": 5,\n",
    "            },\n",
    "        ),\n",
    "    )\n"
   ]
  },
  {
   "cell_type": "code",
   "execution_count": null,
   "metadata": {},
   "outputs": [],
   "source": [
    "if \"CI\" not in os.environ:\n",
    "    df = df.with_columns(\n",
    "        MaxComponents=(\n",
    "            pl.col(\"Components\")\n",
    "            * pl.col(\"has task\")\n",
    "        ).max().over(\n",
    "            [\"Treatment\", \"Run ID\", \"Generation Born\"],\n",
    "        ).alias(\"max components\"),\n",
    "    )\n"
   ]
  },
  {
   "cell_type": "code",
   "execution_count": null,
   "metadata": {},
   "outputs": [],
   "source": [
    "if \"CI\" not in os.environ:\n",
    "    df = df.with_columns(\n",
    "        (\n",
    "            pl.col(\"MaxComponents\") == 5\n",
    "        ).alias(\"has equal\"),\n",
    "    )\n"
   ]
  },
  {
   "cell_type": "code",
   "execution_count": null,
   "metadata": {},
   "outputs": [],
   "source": [
    "if \"CI\" not in os.environ:\n",
    "    dfx = df.group_by(\n",
    "        [\"Treatment\", \"Run ID\", \"Generation Born\"],\n",
    "    ).first()\n",
    "    dfx.write_parquet(\"/tmp/num-coding-sites.pqt\")\n",
    "else:\n",
    "    dfx = pl.read_parquet(\"https://osf.io/etsfy/download\", use_pyarrow=True)\n"
   ]
  },
  {
   "cell_type": "code",
   "execution_count": null,
   "metadata": {},
   "outputs": [],
   "source": [
    "dfx = dfx.with_columns(\n",
    "    Treatment=pl.col(\"Treatment\").map_elements(\n",
    "        {\n",
    "            \"Baseline-Treatment\": \"Baseline\",\n",
    "            \"Long-Ancestor-Control-Treatment\": \"Long-genome\",\n",
    "            \"Slip-duplicate\": \"Slip-duplicate\",\n",
    "        }.__getitem__,\n",
    "        return_dtype=str,\n",
    "    ),\n",
    ")\n"
   ]
  },
  {
   "cell_type": "code",
   "execution_count": null,
   "metadata": {},
   "outputs": [],
   "source": [
    "dfx = dfx.with_columns(\n",
    "    (\n",
    "        pl.col(\"num coding sites\") / pl.col(\"Genome Length\")\n",
    "    ).alias(\"frac coding sites\")\n",
    ")\n"
   ]
  },
  {
   "cell_type": "code",
   "execution_count": null,
   "metadata": {},
   "outputs": [],
   "source": [
    "dfx = dfx.with_columns(\n",
    "    (dfx[\"num coded sites\"] - dfx[\"num coding sites\"]).alias(\"num free sites\"),\n",
    ")\n"
   ]
  },
  {
   "cell_type": "code",
   "execution_count": null,
   "metadata": {},
   "outputs": [],
   "source": [
    "def ensure_combinations(df, group_columns, generation_column):\n",
    "    df = df.with_columns(\n",
    "        pl.col(generation_column).cast(pl.Int64),\n",
    "    )\n",
    "    # Step 1: Create full range of generations\n",
    "    min_gen = 0\n",
    "    max_gen = 600\n",
    "    full_generations = pl.DataFrame({generation_column: np.arange(min_gen, max_gen + 1)})\n",
    "\n",
    "    # Step 2: Get unique values of group columns\n",
    "    unique_groups = df.select(group_columns).unique()\n",
    "\n",
    "    # Step 3: Generate all combinations\n",
    "    all_combinations = unique_groups.join(full_generations, how=\"cross\")\n",
    "\n",
    "    # Step 4: Join the original DataFrame with the complete combinations\n",
    "    complete_df = all_combinations.join(df, on=group_columns + [generation_column], how=\"left\")\n",
    "\n",
    "    return complete_df\n"
   ]
  },
  {
   "cell_type": "code",
   "execution_count": null,
   "metadata": {},
   "outputs": [],
   "source": [
    "big_df = ensure_combinations(dfx, [\"Treatment\", \"Run ID\"], \"Generation Born\")\n",
    "big_df = big_df.fill_null(strategy=\"forward\")\n",
    "big_df\n"
   ]
  },
  {
   "cell_type": "code",
   "execution_count": null,
   "metadata": {},
   "outputs": [],
   "source": [
    "dfx = big_df\n"
   ]
  },
  {
   "cell_type": "code",
   "execution_count": null,
   "metadata": {},
   "outputs": [],
   "source": [
    "with tp.teed(\n",
    "    sns.lineplot,\n",
    "    hue=\"Treatment\",\n",
    "    style=\"Treatment\",\n",
    "    y=\"num coding sites\",\n",
    "    x=\"Generation Born\",\n",
    "    data=dfx.filter(\n",
    "        pl.col(\"Generation Born\") % 16 == 0\n",
    "    ).to_pandas(),\n",
    "    teeplot_outexclude=\"style\",\n",
    "    teeplot_postprocess=\"plt.xlim(0, 600)\",\n",
    ") as ax:\n",
    "    sns.move_legend(\n",
    "        ax, \"lower center\",\n",
    "        bbox_to_anchor=(.5, 1), ncol=3, title=None, frameon=False,\n",
    "    )\n",
    "    ax.spines[[\"right\", \"top\"]].set_visible(False)\n"
   ]
  },
  {
   "cell_type": "code",
   "execution_count": null,
   "metadata": {},
   "outputs": [],
   "source": [
    "with tp.teed(\n",
    "    sns.relplot,\n",
    "    col=\"Treatment\",\n",
    "    hue=\"has equal\",\n",
    "    y=\"num coding sites\",\n",
    "    x=\"num coded sites\",\n",
    "    data=dfx.filter(\n",
    "        pl.col(\"Generation Born\") % 16 == 0\n",
    "    ).to_pandas(),\n",
    "    kind=\"scatter\",\n",
    ") as g:\n",
    "    pass\n"
   ]
  },
  {
   "cell_type": "code",
   "execution_count": null,
   "metadata": {},
   "outputs": [],
   "source": [
    "with tp.teed(\n",
    "    sns.lineplot,\n",
    "    hue=\"Treatment\",\n",
    "    style=\"Treatment\",\n",
    "    y=\"num coded sites\",\n",
    "    x=\"Generation Born\",\n",
    "    data=dfx.filter(\n",
    "        pl.col(\"Generation Born\") % 16 == 0\n",
    "    ).to_pandas(),\n",
    "    teeplot_outexclude=\"style\",\n",
    "    teeplot_postprocess=\"plt.xlim(0, 600)\",\n",
    "    # teeplot_postprocess=\"plt.xscale('log')\",\n",
    ") as ax:\n",
    "    sns.move_legend(\n",
    "        ax, \"lower center\",\n",
    "        bbox_to_anchor=(.5, 1), ncol=3, title=None, frameon=False,\n",
    "    )\n",
    "    ax.spines[[\"right\", \"top\"]].set_visible(False)\n"
   ]
  },
  {
   "cell_type": "code",
   "execution_count": null,
   "metadata": {},
   "outputs": [],
   "source": [
    "with tp.teed(\n",
    "    sns.lineplot,\n",
    "    hue=\"Treatment\",\n",
    "    style=\"Treatment\",\n",
    "    y=\"num free sites\",\n",
    "    x=\"Generation Born\",\n",
    "    data=dfx.filter(\n",
    "        pl.col(\"Generation Born\") % 16 == 0\n",
    "    ).with_columns(\n",
    "        (pl.col(\"num coded sites\") - pl.col(\"num coding sites\")).alias(\"num free sites\"),\n",
    "    ).to_pandas(),\n",
    "    # teeplot_postprocess=\"plt.xscale('log')\",\n",
    "    teeplot_outexclude=\"style\",\n",
    "    teeplot_postprocess=\"plt.xlim(0, 600)\",\n",
    ") as ax:\n",
    "    sns.move_legend(\n",
    "        ax, \"lower center\",\n",
    "        bbox_to_anchor=(.5, 1), ncol=3, title=None, frameon=False,\n",
    "    )\n",
    "    ax.spines[[\"right\", \"top\"]].set_visible(False)\n"
   ]
  },
  {
   "cell_type": "code",
   "execution_count": null,
   "metadata": {},
   "outputs": [],
   "source": [
    "with tp.teed(\n",
    "    sns.lineplot,\n",
    "    hue=\"Treatment\",\n",
    "    style=\"Treatment\",\n",
    "    y=\"num tasks has\",\n",
    "    x=\"Generation Born\",\n",
    "    data=dfx.filter(\n",
    "        pl.col(\"Generation Born\") % 16 == 0\n",
    "    ).to_pandas(),\n",
    "    # teeplot_postprocess=\"plt.xscale('log')\",\n",
    "    teeplot_outexclude=\"style\",\n",
    "    teeplot_postprocess=\"plt.xlim(0, 600)\",\n",
    ") as ax:\n",
    "    sns.move_legend(\n",
    "        ax, \"lower center\",\n",
    "        bbox_to_anchor=(.5, 1), ncol=3, title=None, frameon=False,\n",
    "    )\n",
    "    ax.spines[[\"right\", \"top\"]].set_visible(False)\n"
   ]
  },
  {
   "cell_type": "code",
   "execution_count": null,
   "metadata": {},
   "outputs": [],
   "source": [
    "with tp.teed(\n",
    "    sns.lineplot,\n",
    "    hue=\"Treatment\",\n",
    "    style=\"Treatment\",\n",
    "    y=\"MaxComponents\",\n",
    "    x=\"Generation Born\",\n",
    "    data=dfx.filter(\n",
    "        pl.col(\"Generation Born\") % 16 == 0\n",
    "    ).to_pandas(),\n",
    "    # teeplot_postprocess=\"plt.xscale('log')\",\n",
    "    teeplot_outexclude=\"style\",\n",
    "    teeplot_postprocess=\"plt.xlim(0, 600)\",\n",
    ") as ax:\n",
    "    sns.move_legend(\n",
    "        ax, \"lower center\",\n",
    "        bbox_to_anchor=(.5, 1), ncol=3, title=None, frameon=False,\n",
    "    )\n",
    "    ax.spines[[\"right\", \"top\"]].set_visible(False)\n"
   ]
  },
  {
   "cell_type": "code",
   "execution_count": null,
   "metadata": {},
   "outputs": [],
   "source": [
    "with tp.teed(\n",
    "    sns.lineplot,\n",
    "    hue=\"Treatment\",\n",
    "    style=\"Treatment\",\n",
    "    y=\"frac coding sites\",\n",
    "    x=\"Generation Born\",\n",
    "    data=dfx.filter(\n",
    "        pl.col(\"Generation Born\") % 16 == 0\n",
    "    ).to_pandas(),\n",
    "    # teeplot_postprocess=\"plt.xscale('log')\",\n",
    "    teeplot_outexclude=\"style\",\n",
    "    teeplot_postprocess=\"plt.xlim(0, 600)\",\n",
    ") as ax:\n",
    "    sns.move_legend(\n",
    "        ax, \"lower center\",\n",
    "        bbox_to_anchor=(.5, 1), ncol=3, title=None, frameon=False,\n",
    "    )\n",
    "    ax.spines[[\"right\", \"top\"]].set_visible(False)\n"
   ]
  },
  {
   "cell_type": "code",
   "execution_count": null,
   "metadata": {},
   "outputs": [],
   "source": [
    "fil = dfx.filter(pl.col(\"Generation Born\") == 599)\n",
    "for what in [\"num coding sites\", \"num coded sites\"]:\n",
    "    result = scipy.stats.mannwhitneyu(\n",
    "        fil.filter(pl.col(\"Treatment\") == \"Slip-duplicate\")[what].to_numpy(),\n",
    "        fil.filter(pl.col(\"Treatment\") == \"Long-Ancestor-Control-Treatment\")[what].to_numpy(),\n",
    "    )\n",
    "    print(what, result)\n"
   ]
  },
  {
   "cell_type": "code",
   "execution_count": null,
   "metadata": {},
   "outputs": [],
   "source": [
    "fil = dfx.filter(pl.col(\"Generation Born\") == 599)\n",
    "for what in [\"num coding sites\", \"num coded sites\"]:\n",
    "    result = scipy.stats.mannwhitneyu(\n",
    "        fil.filter(pl.col(\"Treatment\") == \"Slip-duplicate\")[what].to_numpy(),\n",
    "        fil.filter(pl.col(\"Treatment\") == \"Baseline-Treatment\")[what].to_numpy(),\n",
    "    )\n",
    "    print(what, result)\n"
   ]
  },
  {
   "cell_type": "code",
   "execution_count": null,
   "metadata": {},
   "outputs": [],
   "source": [
    "fil = dfx.filter(pl.col(\"Generation Born\") == 599)\n",
    "for what in [\"num coding sites\", \"num coded sites\"]:\n",
    "    for treatment in [\"Slip-duplicate\", \"Long-Ancestor-Control-Treatment\", \"Baseline-Treatment\"]:\n",
    "        arr = fil.filter(pl.col(\"Treatment\") == treatment)[what].to_numpy()\n",
    "        print(what, treatment, np.mean(arr), np.std(arr))\n"
   ]
  }
 ],
 "metadata": {
  "kernelspec": {
   "display_name": "Python 3",
   "language": "python",
   "name": "python3"
  },
  "language_info": {
   "codemirror_mode": {
    "name": "ipython",
    "version": 3
   },
   "file_extension": ".py",
   "mimetype": "text/x-python",
   "name": "python",
   "nbconvert_exporter": "python",
   "pygments_lexer": "ipython3"
  }
 },
 "nbformat": 4,
 "nbformat_minor": 2
}
