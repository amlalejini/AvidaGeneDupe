{
 "cells": [
  {
   "cell_type": "code",
   "execution_count": null,
   "metadata": {},
   "outputs": [],
   "source": [
    "import numpy as np\n",
    "from matplotlib import pyplot as plt\n",
    "import pandas as pd\n",
    "import polars as pl\n",
    "import seaborn as sns\n",
    "from teeplot import teeplot as tp\n"
   ]
  },
  {
   "cell_type": "code",
   "execution_count": null,
   "metadata": {},
   "outputs": [],
   "source": [
    "df = pl.read_parquet(\n",
    "    \"https://osf.io/emh23/download\",\n",
    "    use_pyarrow=True,\n",
    ")\n"
   ]
  },
  {
   "cell_type": "code",
   "execution_count": null,
   "metadata": {},
   "outputs": [],
   "source": [
    "print(df.columns)\n"
   ]
  },
  {
   "cell_type": "code",
   "execution_count": null,
   "metadata": {},
   "outputs": [],
   "source": [
    "df = df.with_columns(\n",
    "    pl.col(\"SLIP_INSERTION_BOOL_MASK\").any().over(\n",
    "        [\"Treatment\", \"Run ID\", \"Generation Born\"],\n",
    "    ).alias(\"SLIP_INSERTION_BOOL_MASK any\"),\n",
    ")\n"
   ]
  },
  {
   "cell_type": "code",
   "execution_count": null,
   "metadata": {},
   "outputs": [],
   "source": [
    "df = df.with_columns(\n",
    "    pl.col(\"Is Task Coding Site\").any().over(\n",
    "        [\"Treatment\", \"Run ID\", \"Generation Born\", \"Site\"],\n",
    "    )\n",
    "    .alias(\"is any coding site\"),\n",
    ")\n"
   ]
  },
  {
   "cell_type": "code",
   "execution_count": null,
   "metadata": {},
   "outputs": [],
   "source": [
    "df = df.with_columns(\n",
    "    pl.col(\"Is Task Coding Site Delta\").sum().over(\n",
    "        [\"Treatment\", \"Run ID\", \"Generation Born\"],\n",
    "    )\n",
    "    .alias(\"is task coding site delta sum\"),\n",
    ")\n"
   ]
  },
  {
   "cell_type": "code",
   "execution_count": null,
   "metadata": {},
   "outputs": [],
   "source": [
    "df = df.with_columns(\n",
    "    pl.col(\"has task\").sum().over(\n",
    "        [\"Treatment\", \"Run ID\", \"Generation Born\", \"Site\"],\n",
    "    )\n",
    "    .alias(\"num tasks has\"),\n",
    ")\n"
   ]
  },
  {
   "cell_type": "code",
   "execution_count": null,
   "metadata": {},
   "outputs": [],
   "source": [
    "df = df.with_columns(\n",
    "    pl.col(\"is any coding site\").sum().over(\n",
    "        [\"Treatment\", \"Run ID\", \"Generation Born\", \"Task\",],\n",
    "    ).alias(\"num coding sites\"),\n",
    ")\n"
   ]
  },
  {
   "cell_type": "code",
   "execution_count": null,
   "metadata": {},
   "outputs": [],
   "source": [
    "dfx = df.group_by(\n",
    "    [\"Treatment\", \"Run ID\", \"Generation Born\", \"num tasks has\", \"num coding sites\", \"is task coding site delta sum\", \"SLIP_INSERTION_BOOL_MASK any\"],\n",
    ").agg(\n",
    "    (\n",
    "        (pl.col(\"delta has task\") == 1).any() * 2\n",
    "        + (pl.col(\"delta has task\") == -1).any()\n",
    "    ).replace_strict(\n",
    "        {\n",
    "            0: \"No change\",\n",
    "            1: \"Task loss\",\n",
    "            2: \"Task gain\",\n",
    "            3: \"Task gain and loss\",\n",
    "        },\n",
    "    )\n",
    "    .alias(\"task change\"),\n",
    ")\n"
   ]
  },
  {
   "cell_type": "code",
   "execution_count": null,
   "metadata": {},
   "outputs": [],
   "source": [
    "dfx\n"
   ]
  },
  {
   "cell_type": "code",
   "execution_count": null,
   "metadata": {},
   "outputs": [],
   "source": [
    "tp.tee(\n",
    "    sns.catplot,\n",
    "    hue=\"task change\",\n",
    "    y=\"num coding sites\",\n",
    "    x=\"Treatment\",\n",
    "    kind=\"box\",\n",
    "    col=\"num tasks has\",\n",
    "    data=dfx.to_pandas(),\n",
    "    col_wrap=3,\n",
    "    teeplot_outattrs={\"mut\": \"poisson\"},\n",
    ")\n"
   ]
  },
  {
   "cell_type": "code",
   "execution_count": null,
   "metadata": {},
   "outputs": [],
   "source": [
    "saveit, g = tp.tee(\n",
    "    sns.catplot,\n",
    "    hue=\"task change\",\n",
    "    y=\"is task coding site delta sum\",\n",
    "    col=\"Treatment\",\n",
    "    kind=\"bar\",\n",
    "    x=\"num tasks has\",\n",
    "    data=dfx.to_pandas(),\n",
    "    col_wrap=3,\n",
    "    teeplot_callback=True,\n",
    "    teeplot_outattrs={\"mut\": \"poisson\"},\n",
    ")\n",
    "for ax in g.axes.flat:\n",
    "    ax.axhline(0, color=\"black\")\n",
    "    ax.set_yscale(\"symlog\")\n",
    "\n",
    "saveit()\n"
   ]
  },
  {
   "cell_type": "code",
   "execution_count": null,
   "metadata": {},
   "outputs": [],
   "source": [
    "saveit, g = tp.tee(\n",
    "    sns.catplot,\n",
    "    hue=\"SLIP_INSERTION_BOOL_MASK any\",\n",
    "    y=\"is task coding site delta sum\",\n",
    "    kind=\"bar\",\n",
    "    x=\"num tasks has\",\n",
    "    data=dfx.filter(\n",
    "        pl.col(\"Treatment\") == \"Slip+\",\n",
    "    ).to_pandas(),\n",
    "    teeplot_callback=True,\n",
    "    teeplot_outattrs={\"mut\": \"poisson\"},\n",
    ")\n",
    "for ax in g.axes.flat:\n",
    "    ax.axhline(0, color=\"black\")\n",
    "    ax.set_yscale(\"symlog\")\n",
    "\n",
    "saveit()\n"
   ]
  },
  {
   "cell_type": "code",
   "execution_count": null,
   "metadata": {},
   "outputs": [],
   "source": [
    "saveit, g = tp.tee(\n",
    "    sns.catplot,\n",
    "    hue=\"SLIP_INSERTION_BOOL_MASK any\",\n",
    "    y=\"is task coding site delta sum\",\n",
    "    kind=\"bar\",\n",
    "    x=\"num tasks has\",\n",
    "    estimator=\"median\",\n",
    "    data=dfx.filter(\n",
    "        pl.col(\"Treatment\") == \"Slip+\",\n",
    "    ).to_pandas(),\n",
    "    teeplot_callback=True,\n",
    "    teeplot_outattrs={\"mut\": \"poisson\"},\n",
    ")\n",
    "for ax in g.axes.flat:\n",
    "    ax.axhline(0, color=\"black\")\n",
    "    ax.set_yscale(\"symlog\")\n",
    "\n",
    "saveit()\n"
   ]
  },
  {
   "cell_type": "code",
   "execution_count": null,
   "metadata": {},
   "outputs": [],
   "source": [
    "saveit, g = tp.tee(\n",
    "    sns.catplot,\n",
    "    hue=\"SLIP_INSERTION_BOOL_MASK any\",\n",
    "    y=\"is task coding site delta sum\",\n",
    "    kind=\"strip\",\n",
    "    dodge=True,\n",
    "    x=\"num tasks has\",\n",
    "    data=dfx.filter(\n",
    "        pl.col(\"Treatment\") == \"Slip+\",\n",
    "    ).to_pandas(),\n",
    "    teeplot_callback=True,\n",
    "    teeplot_outattrs={\"mut\": \"poisson\"},\n",
    ")\n",
    "for ax in g.axes.flat:\n",
    "    ax.axhline(0, color=\"black\")\n",
    "    ax.set_yscale(\"symlog\")\n",
    "\n",
    "saveit()\n"
   ]
  },
  {
   "cell_type": "code",
   "execution_count": null,
   "metadata": {},
   "outputs": [],
   "source": [
    "saveit, g = tp.tee(\n",
    "    sns.catplot,\n",
    "    hue=\"SLIP_INSERTION_BOOL_MASK any\",\n",
    "    y=\"is task coding site delta sum\",\n",
    "    kind=\"violin\",\n",
    "    dodge=True,\n",
    "    x=\"num tasks has\",\n",
    "    data=dfx.filter(\n",
    "        pl.col(\"Treatment\") == \"Slip+\",\n",
    "    ).to_pandas(),\n",
    "    teeplot_callback=True,\n",
    "    teeplot_outattrs={\"mut\": \"poisson\"},\n",
    ")\n",
    "for ax in g.axes.flat:\n",
    "    ax.axhline(0, color=\"black\")\n",
    "    ax.set_yscale(\"symlog\")\n",
    "\n",
    "saveit()"
   ]
  },
  {
   "cell_type": "code",
   "execution_count": null,
   "metadata": {},
   "outputs": [],
   "source": [
    "saveit, g = tp.tee(\n",
    "    sns.displot,\n",
    "    hue=\"SLIP_INSERTION_BOOL_MASK any\",\n",
    "    kind=\"hist\",\n",
    "    x=\"num tasks has\",\n",
    "    data=dfx.filter(\n",
    "        pl.col(\"Treatment\") == \"Slip+\",\n",
    "    ).to_pandas().astype(\n",
    "        {\"num tasks has\": \"category\"},\n",
    "    ),\n",
    "    teeplot_callback=True,\n",
    "    stat=\"count\",\n",
    "    multiple=\"dodge\",\n",
    "    shrink=0.8,\n",
    "    discrete=True,\n",
    "    teeplot_outattrs={\"mut\": \"poisson\"},\n",
    ")\n",
    "plt.yscale('log')\n",
    "\n",
    "# add count labels\n",
    "# adapted from https://stackoverflow.com/a/55319634/17332200\n",
    "for ax in g.axes.flat:\n",
    "    for p in ax.patches:\n",
    "        ax.annotate(\n",
    "            text=f\"{p.get_height():1.0f}\",\n",
    "            xy=(p.get_x() + p.get_width() / 2., p.get_height()),\n",
    "            xycoords='data',\n",
    "            ha='center',\n",
    "            va='center',\n",
    "            fontsize=11,\n",
    "            color='black',\n",
    "            xytext=(0,7),\n",
    "            textcoords='offset points',\n",
    "            clip_on=True,                   # <---  important\n",
    "        )\n",
    "\n",
    "saveit()\n"
   ]
  }
 ],
 "metadata": {
  "kernelspec": {
   "display_name": "Python 3",
   "language": "python",
   "name": "python3"
  },
  "language_info": {
   "codemirror_mode": {
    "name": "ipython",
    "version": 3
   },
   "file_extension": ".py",
   "mimetype": "text/x-python",
   "name": "python",
   "nbconvert_exporter": "python",
   "pygments_lexer": "ipython3"
  }
 },
 "nbformat": 4,
 "nbformat_minor": 2
}
